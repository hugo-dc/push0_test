{
 "cells": [
  {
   "cell_type": "code",
   "execution_count": 1,
   "id": "91256c57",
   "metadata": {},
   "outputs": [],
   "source": [
    "import pandas as pd\n",
    "import os\n",
    "\n",
    "pd.set_option(\"display.max_rows\", None)"
   ]
  },
  {
   "cell_type": "code",
   "execution_count": 2,
   "id": "308623b1",
   "metadata": {},
   "outputs": [],
   "source": [
    "input_files = [f for f in os.listdir('../') if f[:6] == 'result']"
   ]
  },
  {
   "cell_type": "code",
   "execution_count": 3,
   "id": "335d32ef",
   "metadata": {},
   "outputs": [],
   "source": [
    "def autopct(pct): # only show the label when it's > 10%\n",
    "    return ('%.2f' % pct) + \"%\" if pct > 1 else ''"
   ]
  },
  {
   "cell_type": "code",
   "execution_count": 4,
   "id": "00e3bc1e",
   "metadata": {},
   "outputs": [],
   "source": [
    "column_names = ['address', 'codeSize']\n",
    "\n",
    "results = {}\n",
    "for i in range(1,33):\n",
    "    for j in [0,1,2,8,31,32]:\n",
    "        field_name = 'PUSH' + str(i) + '_' + str(j)\n",
    "        column_names.append(field_name)\n",
    "        results[field_name] = 0\n",
    "        \n",
    "column_names.append('-') # log contains an extra empty field\n",
    "        "
   ]
  },
  {
   "cell_type": "code",
   "execution_count": null,
   "id": "77afb8bb",
   "metadata": {},
   "outputs": [
    {
     "name": "stdout",
     "output_type": "stream",
     "text": [
      "result.am\n",
      "result.aq\n",
      "result.ar\n",
      "result.bm\n",
      "result.ac\n",
      "result.bh\n",
      "result.bn\n",
      "result.be\n",
      "result.bk\n",
      "result.ag\n",
      "result.bg\n",
      "result.at\n",
      "result.bi\n",
      "result.ak\n",
      "result.bp\n",
      "result.ad\n",
      "result.ax\n",
      "result.bb\n",
      "result.bf\n",
      "result.bc\n",
      "result.az\n",
      "result.bd\n",
      "result.af\n",
      "result.bl\n",
      "result.bo\n",
      "result.ae\n",
      "result.av\n",
      "result.ap\n",
      "result.aa\n",
      "result.as\n",
      "result.ba\n",
      "result.ai\n",
      "result.al\n",
      "result.ay\n",
      "result.ah\n",
      "result.an\n",
      "result.au\n",
      "result.bj\n",
      "result.aw\n",
      "result.aj\n"
     ]
    }
   ],
   "source": [
    "total_lines = 0\n",
    "df_tmp = None\n",
    "for f in input_files:\n",
    "    df = pd.read_csv('../' + f, names=column_names)\n",
    "    print(f)\n",
    "    for key in results.keys():\n",
    "        key_sum = df[key].sum()\n",
    "        results[key] += key_sum"
   ]
  },
  {
   "cell_type": "code",
   "execution_count": null,
   "id": "fb6aee0c",
   "metadata": {},
   "outputs": [],
   "source": [
    "vals = results.values()\n",
    "cols = results.keys()"
   ]
  },
  {
   "cell_type": "code",
   "execution_count": null,
   "id": "791b561c",
   "metadata": {},
   "outputs": [],
   "source": [
    "df2 = pd.DataFrame([vals], columns=cols)"
   ]
  },
  {
   "cell_type": "code",
   "execution_count": null,
   "id": "8e30165c",
   "metadata": {},
   "outputs": [],
   "source": [
    "df2"
   ]
  },
  {
   "cell_type": "code",
   "execution_count": null,
   "id": "7174e789",
   "metadata": {},
   "outputs": [],
   "source": [
    "results"
   ]
  },
  {
   "cell_type": "code",
   "execution_count": null,
   "id": "717b2c93",
   "metadata": {},
   "outputs": [],
   "source": [
    "results['others'] = 0\n",
    "high_usage = []\n",
    "low_usage = []"
   ]
  },
  {
   "cell_type": "code",
   "execution_count": null,
   "id": "3c8a25c8",
   "metadata": {},
   "outputs": [],
   "source": [
    "df2.sum().plot(kind='pie', label='', figsize=(16,16), autopct=autopct)"
   ]
  },
  {
   "cell_type": "code",
   "execution_count": null,
   "id": "b249b82e",
   "metadata": {},
   "outputs": [],
   "source": [
    "df3 = pd.DataFrame.from_dict(results, orient='index')"
   ]
  },
  {
   "cell_type": "code",
   "execution_count": null,
   "id": "a668a4fd",
   "metadata": {},
   "outputs": [],
   "source": [
    "df3"
   ]
  },
  {
   "cell_type": "code",
   "execution_count": null,
   "id": "7cea4666",
   "metadata": {},
   "outputs": [],
   "source": [
    "df3.drop(df3[df3[0] == 0].index, inplace=True)"
   ]
  },
  {
   "cell_type": "code",
   "execution_count": null,
   "id": "2048cfd7",
   "metadata": {},
   "outputs": [],
   "source": [
    "df3.to_markdown()"
   ]
  },
  {
   "cell_type": "code",
   "execution_count": null,
   "id": "eda4a59e",
   "metadata": {},
   "outputs": [],
   "source": [
    "results"
   ]
  },
  {
   "cell_type": "code",
   "execution_count": null,
   "id": "b083cf9e",
   "metadata": {},
   "outputs": [],
   "source": [
    "results_by_magic = {0: 0,\n",
    "                   1: 0,\n",
    "                   2: 0,\n",
    "                   8: 0,\n",
    "                   31: 0,\n",
    "                   32: 0}\n",
    "for m in results_by_magic.keys():\n",
    "    for i in range(1, 33):\n",
    "        result_key = 'PUSH' + str(i) + '_' + str(m)\n",
    "        print(result_key)\n",
    "        if result_key in results.keys():\n",
    "            print(m,result_key)\n",
    "            results_by_magic[m] += results[result_key]"
   ]
  },
  {
   "cell_type": "code",
   "execution_count": null,
   "id": "f5b549bb",
   "metadata": {},
   "outputs": [],
   "source": [
    "results_by_magic"
   ]
  },
  {
   "cell_type": "code",
   "execution_count": null,
   "id": "133efaac",
   "metadata": {},
   "outputs": [],
   "source": [
    "df4 = pd.DataFrame.from_dict(results_by_magic, orient='index')\n"
   ]
  },
  {
   "cell_type": "code",
   "execution_count": null,
   "id": "328ad5c5",
   "metadata": {},
   "outputs": [],
   "source": [
    "df4"
   ]
  },
  {
   "cell_type": "code",
   "execution_count": null,
   "id": "6c7337ed",
   "metadata": {},
   "outputs": [],
   "source": [
    "df4 = pd.DataFrame([results_by_magic.values()], columns=results_by_magic.keys())\n",
    "df4"
   ]
  },
  {
   "cell_type": "code",
   "execution_count": null,
   "id": "d1531704",
   "metadata": {},
   "outputs": [],
   "source": [
    "df4.sum().plot(kind='pie', label='', figsize=(16,16), autopct=autopct)"
   ]
  },
  {
   "cell_type": "code",
   "execution_count": null,
   "id": "30146a69",
   "metadata": {},
   "outputs": [],
   "source": []
  }
 ],
 "metadata": {
  "kernelspec": {
   "display_name": "Python 3",
   "language": "python",
   "name": "python3"
  },
  "language_info": {
   "codemirror_mode": {
    "name": "ipython",
    "version": 3
   },
   "file_extension": ".py",
   "mimetype": "text/x-python",
   "name": "python",
   "nbconvert_exporter": "python",
   "pygments_lexer": "ipython3",
   "version": "3.9.5"
  }
 },
 "nbformat": 4,
 "nbformat_minor": 5
}
