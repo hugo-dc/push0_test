{
 "cells": [
  {
   "cell_type": "code",
   "execution_count": 1,
   "id": "16a39499",
   "metadata": {},
   "outputs": [],
   "source": [
    "import pandas as pd\n",
    "import os"
   ]
  },
  {
   "cell_type": "code",
   "execution_count": 2,
   "id": "4c5738a1",
   "metadata": {},
   "outputs": [],
   "source": [
    "INPUT_FILE = '../result_push1.csv'"
   ]
  },
  {
   "cell_type": "code",
   "execution_count": 9,
   "id": "f9b456db",
   "metadata": {},
   "outputs": [],
   "source": [
    "def autopct(pct): # only show the label when it's > 10%\n",
    "    return ('%.2f' % pct) + \"%\" if pct > 1 else ''"
   ]
  },
  {
   "cell_type": "code",
   "execution_count": 3,
   "id": "2541b48b",
   "metadata": {},
   "outputs": [],
   "source": [
    "column_names = ['address', 'codeSize', '0', '1', '2', '8', '31', '32', 'other']"
   ]
  },
  {
   "cell_type": "code",
   "execution_count": 4,
   "id": "8434862f",
   "metadata": {},
   "outputs": [],
   "source": [
    "df = pd.read_csv(INPUT_FILE, names=column_names)"
   ]
  },
  {
   "cell_type": "code",
   "execution_count": 5,
   "id": "9e781e36",
   "metadata": {},
   "outputs": [
    {
     "data": {
      "text/html": [
       "<div>\n",
       "<style scoped>\n",
       "    .dataframe tbody tr th:only-of-type {\n",
       "        vertical-align: middle;\n",
       "    }\n",
       "\n",
       "    .dataframe tbody tr th {\n",
       "        vertical-align: top;\n",
       "    }\n",
       "\n",
       "    .dataframe thead th {\n",
       "        text-align: right;\n",
       "    }\n",
       "</style>\n",
       "<table border=\"1\" class=\"dataframe\">\n",
       "  <thead>\n",
       "    <tr style=\"text-align: right;\">\n",
       "      <th></th>\n",
       "      <th>address</th>\n",
       "      <th>codeSize</th>\n",
       "      <th>0</th>\n",
       "      <th>1</th>\n",
       "      <th>2</th>\n",
       "      <th>8</th>\n",
       "      <th>31</th>\n",
       "      <th>32</th>\n",
       "      <th>other</th>\n",
       "    </tr>\n",
       "  </thead>\n",
       "  <tbody>\n",
       "    <tr>\n",
       "      <th>0</th>\n",
       "      <td>0x000000000000006f6502b7f2bbac8c30a3f67e9a</td>\n",
       "      <td>14188</td>\n",
       "      <td>12</td>\n",
       "      <td>12</td>\n",
       "      <td>16</td>\n",
       "      <td>13</td>\n",
       "      <td>0</td>\n",
       "      <td>103</td>\n",
       "      <td>759</td>\n",
       "    </tr>\n",
       "    <tr>\n",
       "      <th>1</th>\n",
       "      <td>0x00000000000003441d59dde9a90bffb1cd3fabf1</td>\n",
       "      <td>15355</td>\n",
       "      <td>202</td>\n",
       "      <td>19</td>\n",
       "      <td>6</td>\n",
       "      <td>1</td>\n",
       "      <td>10</td>\n",
       "      <td>226</td>\n",
       "      <td>318</td>\n",
       "    </tr>\n",
       "    <tr>\n",
       "      <th>2</th>\n",
       "      <td>0x00000000000003c98e6a44a835cb776385bed207</td>\n",
       "      <td>8739</td>\n",
       "      <td>185</td>\n",
       "      <td>15</td>\n",
       "      <td>1</td>\n",
       "      <td>1</td>\n",
       "      <td>13</td>\n",
       "      <td>158</td>\n",
       "      <td>256</td>\n",
       "    </tr>\n",
       "    <tr>\n",
       "      <th>3</th>\n",
       "      <td>0x000000000000084e91743124a982076c59f10084</td>\n",
       "      <td>17462</td>\n",
       "      <td>391</td>\n",
       "      <td>41</td>\n",
       "      <td>15</td>\n",
       "      <td>2</td>\n",
       "      <td>21</td>\n",
       "      <td>216</td>\n",
       "      <td>531</td>\n",
       "    </tr>\n",
       "    <tr>\n",
       "      <th>4</th>\n",
       "      <td>0x0000000000000eb4ec62758aae93400b3e5f7f18</td>\n",
       "      <td>7360</td>\n",
       "      <td>201</td>\n",
       "      <td>57</td>\n",
       "      <td>29</td>\n",
       "      <td>2</td>\n",
       "      <td>1</td>\n",
       "      <td>72</td>\n",
       "      <td>277</td>\n",
       "    </tr>\n",
       "    <tr>\n",
       "      <th>...</th>\n",
       "      <td>...</td>\n",
       "      <td>...</td>\n",
       "      <td>...</td>\n",
       "      <td>...</td>\n",
       "      <td>...</td>\n",
       "      <td>...</td>\n",
       "      <td>...</td>\n",
       "      <td>...</td>\n",
       "      <td>...</td>\n",
       "    </tr>\n",
       "    <tr>\n",
       "      <th>20626387</th>\n",
       "      <td>0xffffff317532cc41aac6bed49bcb659ccc24642b</td>\n",
       "      <td>47</td>\n",
       "      <td>4</td>\n",
       "      <td>1</td>\n",
       "      <td>0</td>\n",
       "      <td>0</td>\n",
       "      <td>0</td>\n",
       "      <td>2</td>\n",
       "      <td>1</td>\n",
       "    </tr>\n",
       "    <tr>\n",
       "      <th>20626388</th>\n",
       "      <td>0xfffffff30f66fc0a49b120d80bb0872b8071ef26</td>\n",
       "      <td>4049</td>\n",
       "      <td>43</td>\n",
       "      <td>10</td>\n",
       "      <td>1</td>\n",
       "      <td>0</td>\n",
       "      <td>2</td>\n",
       "      <td>55</td>\n",
       "      <td>131</td>\n",
       "    </tr>\n",
       "    <tr>\n",
       "      <th>20626389</th>\n",
       "      <td>0xffffffff2ba8f66d4e51811c5190992176930278</td>\n",
       "      <td>2546</td>\n",
       "      <td>35</td>\n",
       "      <td>54</td>\n",
       "      <td>3</td>\n",
       "      <td>0</td>\n",
       "      <td>7</td>\n",
       "      <td>48</td>\n",
       "      <td>118</td>\n",
       "    </tr>\n",
       "    <tr>\n",
       "      <th>20626390</th>\n",
       "      <td>0xffffffffa099a386064b24a862e5d93ef7267569</td>\n",
       "      <td>4049</td>\n",
       "      <td>43</td>\n",
       "      <td>10</td>\n",
       "      <td>1</td>\n",
       "      <td>0</td>\n",
       "      <td>2</td>\n",
       "      <td>55</td>\n",
       "      <td>131</td>\n",
       "    </tr>\n",
       "    <tr>\n",
       "      <th>20626391</th>\n",
       "      <td>0xfffffffff15abf397da76f1dcc1a1604f45126db</td>\n",
       "      <td>5000</td>\n",
       "      <td>74</td>\n",
       "      <td>23</td>\n",
       "      <td>7</td>\n",
       "      <td>0</td>\n",
       "      <td>9</td>\n",
       "      <td>111</td>\n",
       "      <td>119</td>\n",
       "    </tr>\n",
       "  </tbody>\n",
       "</table>\n",
       "<p>20626392 rows × 9 columns</p>\n",
       "</div>"
      ],
      "text/plain": [
       "                                             address  codeSize    0   1   2  \\\n",
       "0         0x000000000000006f6502b7f2bbac8c30a3f67e9a     14188   12  12  16   \n",
       "1         0x00000000000003441d59dde9a90bffb1cd3fabf1     15355  202  19   6   \n",
       "2         0x00000000000003c98e6a44a835cb776385bed207      8739  185  15   1   \n",
       "3         0x000000000000084e91743124a982076c59f10084     17462  391  41  15   \n",
       "4         0x0000000000000eb4ec62758aae93400b3e5f7f18      7360  201  57  29   \n",
       "...                                              ...       ...  ...  ..  ..   \n",
       "20626387  0xffffff317532cc41aac6bed49bcb659ccc24642b        47    4   1   0   \n",
       "20626388  0xfffffff30f66fc0a49b120d80bb0872b8071ef26      4049   43  10   1   \n",
       "20626389  0xffffffff2ba8f66d4e51811c5190992176930278      2546   35  54   3   \n",
       "20626390  0xffffffffa099a386064b24a862e5d93ef7267569      4049   43  10   1   \n",
       "20626391  0xfffffffff15abf397da76f1dcc1a1604f45126db      5000   74  23   7   \n",
       "\n",
       "           8  31   32  other  \n",
       "0         13   0  103    759  \n",
       "1          1  10  226    318  \n",
       "2          1  13  158    256  \n",
       "3          2  21  216    531  \n",
       "4          2   1   72    277  \n",
       "...       ..  ..  ...    ...  \n",
       "20626387   0   0    2      1  \n",
       "20626388   0   2   55    131  \n",
       "20626389   0   7   48    118  \n",
       "20626390   0   2   55    131  \n",
       "20626391   0   9  111    119  \n",
       "\n",
       "[20626392 rows x 9 columns]"
      ]
     },
     "execution_count": 5,
     "metadata": {},
     "output_type": "execute_result"
    }
   ],
   "source": [
    "df"
   ]
  },
  {
   "cell_type": "code",
   "execution_count": 6,
   "id": "eb882c39",
   "metadata": {},
   "outputs": [
    {
     "data": {
      "text/plain": [
       "15374193841"
      ]
     },
     "execution_count": 6,
     "metadata": {},
     "output_type": "execute_result"
    }
   ],
   "source": [
    "df['codeSize'].sum()"
   ]
  },
  {
   "cell_type": "code",
   "execution_count": 10,
   "id": "358e7e8d",
   "metadata": {},
   "outputs": [
    {
     "data": {
      "text/plain": [
       "<AxesSubplot:ylabel='PUSH1 usage'>"
      ]
     },
     "execution_count": 10,
     "metadata": {},
     "output_type": "execute_result"
    },
    {
     "data": {
      "image/png": "[encoded data removed]",
      "text/plain": [
       "<Figure size 1152x1152 with 1 Axes>"
      ]
     },
     "metadata": {},
     "output_type": "display_data"
    }
   ],
   "source": [
    "keys = ['0', '1', '2', '8', '31', '32', 'other']\n",
    "\n",
    "df[keys].sum().plot(kind='pie', label='PUSH1 usage', figsize=(16,16), autopct=autopct)"
   ]
  },
  {
   "cell_type": "code",
   "execution_count": 11,
   "id": "38252e0d",
   "metadata": {},
   "outputs": [
    {
     "data": {
      "text/plain": [
       "0        340557331\n",
       "1        159064641\n",
       "2        123747316\n",
       "8          3351271\n",
       "31        15657909\n",
       "32       183287388\n",
       "other    581491971\n",
       "dtype: int64"
      ]
     },
     "execution_count": 11,
     "metadata": {},
     "output_type": "execute_result"
    }
   ],
   "source": [
    "df[keys].sum()"
   ]
  },
  {
   "cell_type": "code",
   "execution_count": null,
   "id": "8ca4220b",
   "metadata": {},
   "outputs": [],
   "source": []
  }
 ],
 "metadata": {
  "kernelspec": {
   "display_name": "Python 3",
   "language": "python",
   "name": "python3"
  },
  "language_info": {
   "codemirror_mode": {
    "name": "ipython",
    "version": 3
   },
   "file_extension": ".py",
   "mimetype": "text/x-python",
   "name": "python",
   "nbconvert_exporter": "python",
   "pygments_lexer": "ipython3",
   "version": "3.9.5"
  }
 },
 "nbformat": 4,
 "nbformat_minor": 5
}
