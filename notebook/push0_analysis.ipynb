{
 "cells": [
  {
   "cell_type": "code",
   "execution_count": 1,
   "id": "35d7f5e4",
   "metadata": {},
   "outputs": [],
   "source": [
    "import pandas as pd"
   ]
  },
  {
   "cell_type": "code",
   "execution_count": 2,
   "id": "d8754438",
   "metadata": {},
   "outputs": [],
   "source": [
    "INPUT_FILE = '../result.csv'\n"
   ]
  },
  {
   "cell_type": "code",
   "execution_count": 3,
   "id": "f88509da",
   "metadata": {},
   "outputs": [],
   "source": [
    "column_names = ['address', 'push0_count', 'deployCost1', 'deployCost2', 'runTimeCost1', 'runTimeCost2']"
   ]
  },
  {
   "cell_type": "code",
   "execution_count": 4,
   "id": "af3c5655",
   "metadata": {},
   "outputs": [],
   "source": [
    "df = pd.read_csv('../result.csv', names=column_names)"
   ]
  },
  {
   "cell_type": "code",
   "execution_count": 8,
   "id": "a6bd037e",
   "metadata": {},
   "outputs": [
    {
     "data": {
      "text/html": [
       "<div>\n",
       "<style scoped>\n",
       "    .dataframe tbody tr th:only-of-type {\n",
       "        vertical-align: middle;\n",
       "    }\n",
       "\n",
       "    .dataframe tbody tr th {\n",
       "        vertical-align: top;\n",
       "    }\n",
       "\n",
       "    .dataframe thead th {\n",
       "        text-align: right;\n",
       "    }\n",
       "</style>\n",
       "<table border=\"1\" class=\"dataframe\">\n",
       "  <thead>\n",
       "    <tr style=\"text-align: right;\">\n",
       "      <th></th>\n",
       "      <th>address</th>\n",
       "      <th>push0_count</th>\n",
       "      <th>deployCost1</th>\n",
       "      <th>deployCost2</th>\n",
       "      <th>runTimeCost1</th>\n",
       "      <th>runTimeCost2</th>\n",
       "    </tr>\n",
       "  </thead>\n",
       "  <tbody>\n",
       "    <tr>\n",
       "      <th>0</th>\n",
       "      <td>0x000000000000006f6502b7f2bbac8c30a3f67e9a</td>\n",
       "      <td>12</td>\n",
       "      <td>4800</td>\n",
       "      <td>2400</td>\n",
       "      <td>36</td>\n",
       "      <td>24</td>\n",
       "    </tr>\n",
       "    <tr>\n",
       "      <th>1</th>\n",
       "      <td>0x00000000000003441d59dde9a90bffb1cd3fabf1</td>\n",
       "      <td>202</td>\n",
       "      <td>80800</td>\n",
       "      <td>40400</td>\n",
       "      <td>606</td>\n",
       "      <td>404</td>\n",
       "    </tr>\n",
       "    <tr>\n",
       "      <th>2</th>\n",
       "      <td>0x00000000000003c98e6a44a835cb776385bed207</td>\n",
       "      <td>185</td>\n",
       "      <td>74000</td>\n",
       "      <td>37000</td>\n",
       "      <td>555</td>\n",
       "      <td>370</td>\n",
       "    </tr>\n",
       "    <tr>\n",
       "      <th>3</th>\n",
       "      <td>0x000000000000084e91743124a982076c59f10084</td>\n",
       "      <td>391</td>\n",
       "      <td>156400</td>\n",
       "      <td>78200</td>\n",
       "      <td>1173</td>\n",
       "      <td>782</td>\n",
       "    </tr>\n",
       "    <tr>\n",
       "      <th>4</th>\n",
       "      <td>0x0000000000000eb4ec62758aae93400b3e5f7f18</td>\n",
       "      <td>201</td>\n",
       "      <td>80400</td>\n",
       "      <td>40200</td>\n",
       "      <td>603</td>\n",
       "      <td>402</td>\n",
       "    </tr>\n",
       "    <tr>\n",
       "      <th>...</th>\n",
       "      <td>...</td>\n",
       "      <td>...</td>\n",
       "      <td>...</td>\n",
       "      <td>...</td>\n",
       "      <td>...</td>\n",
       "      <td>...</td>\n",
       "    </tr>\n",
       "    <tr>\n",
       "      <th>20626387</th>\n",
       "      <td>0xffffff317532cc41aac6bed49bcb659ccc24642b</td>\n",
       "      <td>4</td>\n",
       "      <td>1600</td>\n",
       "      <td>800</td>\n",
       "      <td>12</td>\n",
       "      <td>8</td>\n",
       "    </tr>\n",
       "    <tr>\n",
       "      <th>20626388</th>\n",
       "      <td>0xfffffff30f66fc0a49b120d80bb0872b8071ef26</td>\n",
       "      <td>43</td>\n",
       "      <td>17200</td>\n",
       "      <td>8600</td>\n",
       "      <td>129</td>\n",
       "      <td>86</td>\n",
       "    </tr>\n",
       "    <tr>\n",
       "      <th>20626389</th>\n",
       "      <td>0xffffffff2ba8f66d4e51811c5190992176930278</td>\n",
       "      <td>35</td>\n",
       "      <td>14000</td>\n",
       "      <td>7000</td>\n",
       "      <td>105</td>\n",
       "      <td>70</td>\n",
       "    </tr>\n",
       "    <tr>\n",
       "      <th>20626390</th>\n",
       "      <td>0xffffffffa099a386064b24a862e5d93ef7267569</td>\n",
       "      <td>43</td>\n",
       "      <td>17200</td>\n",
       "      <td>8600</td>\n",
       "      <td>129</td>\n",
       "      <td>86</td>\n",
       "    </tr>\n",
       "    <tr>\n",
       "      <th>20626391</th>\n",
       "      <td>0xfffffffff15abf397da76f1dcc1a1604f45126db</td>\n",
       "      <td>74</td>\n",
       "      <td>29600</td>\n",
       "      <td>14800</td>\n",
       "      <td>222</td>\n",
       "      <td>148</td>\n",
       "    </tr>\n",
       "  </tbody>\n",
       "</table>\n",
       "<p>20626392 rows × 6 columns</p>\n",
       "</div>"
      ],
      "text/plain": [
       "                                             address  push0_count  \\\n",
       "0         0x000000000000006f6502b7f2bbac8c30a3f67e9a           12   \n",
       "1         0x00000000000003441d59dde9a90bffb1cd3fabf1          202   \n",
       "2         0x00000000000003c98e6a44a835cb776385bed207          185   \n",
       "3         0x000000000000084e91743124a982076c59f10084          391   \n",
       "4         0x0000000000000eb4ec62758aae93400b3e5f7f18          201   \n",
       "...                                              ...          ...   \n",
       "20626387  0xffffff317532cc41aac6bed49bcb659ccc24642b            4   \n",
       "20626388  0xfffffff30f66fc0a49b120d80bb0872b8071ef26           43   \n",
       "20626389  0xffffffff2ba8f66d4e51811c5190992176930278           35   \n",
       "20626390  0xffffffffa099a386064b24a862e5d93ef7267569           43   \n",
       "20626391  0xfffffffff15abf397da76f1dcc1a1604f45126db           74   \n",
       "\n",
       "          deployCost1  deployCost2  runTimeCost1  runTimeCost2  \n",
       "0                4800         2400            36            24  \n",
       "1               80800        40400           606           404  \n",
       "2               74000        37000           555           370  \n",
       "3              156400        78200          1173           782  \n",
       "4               80400        40200           603           402  \n",
       "...               ...          ...           ...           ...  \n",
       "20626387         1600          800            12             8  \n",
       "20626388        17200         8600           129            86  \n",
       "20626389        14000         7000           105            70  \n",
       "20626390        17200         8600           129            86  \n",
       "20626391        29600        14800           222           148  \n",
       "\n",
       "[20626392 rows x 6 columns]"
      ]
     },
     "execution_count": 8,
     "metadata": {},
     "output_type": "execute_result"
    }
   ],
   "source": [
    "df"
   ]
  },
  {
   "cell_type": "code",
   "execution_count": 5,
   "id": "a4601cc7",
   "metadata": {},
   "outputs": [],
   "source": [
    "push0_total = df['push0_count'].sum()"
   ]
  },
  {
   "cell_type": "code",
   "execution_count": 7,
   "id": "90c7ad13",
   "metadata": {},
   "outputs": [
    {
     "data": {
      "text/plain": [
       "340557331"
      ]
     },
     "execution_count": 7,
     "metadata": {},
     "output_type": "execute_result"
    }
   ],
   "source": [
    "push0_total"
   ]
  },
  {
   "cell_type": "code",
   "execution_count": 6,
   "id": "93b7b125",
   "metadata": {},
   "outputs": [
    {
     "data": {
      "text/plain": [
       "68111466200"
      ]
     },
     "execution_count": 6,
     "metadata": {},
     "output_type": "execute_result"
    }
   ],
   "source": [
    "push0_total * 200"
   ]
  }
 ],
 "metadata": {
  "kernelspec": {
   "display_name": "Python 3",
   "language": "python",
   "name": "python3"
  },
  "language_info": {
   "codemirror_mode": {
    "name": "ipython",
    "version": 3
   },
   "file_extension": ".py",
   "mimetype": "text/x-python",
   "name": "python",
   "nbconvert_exporter": "python",
   "pygments_lexer": "ipython3",
   "version": "3.9.5"
  }
 },
 "nbformat": 4,
 "nbformat_minor": 5
}
